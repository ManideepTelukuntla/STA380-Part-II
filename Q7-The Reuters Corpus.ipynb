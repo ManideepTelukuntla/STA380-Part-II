{
 "cells": [
  {
   "cell_type": "markdown",
   "metadata": {},
   "source": [
    "# Q7.The Reuters Corpus\n",
    "\n",
    "Revisit the Reuters C50 text corpus that we briefly explored in class. Your task is simple: tell an interesting story, anchored in some analytical tools we have learned in this class, using this data. For example:\n",
    "\n",
    "* you could cluster authors or documents and tell a story about what you find.\n",
    "* you could look for common factors using PCA.\n",
    "* you could train a predictive model and assess its accuracy, constructing features for each document that maximize performance.\n",
    "* you could do anything else that strikes you as interesting with this data.\n",
    "\n",
    "Describe clearly what question you are trying to answer, what models you are using, how you pre-processed the data, and so forth. Make sure you include at least one really interesting plot (although more than one might be necessary, depending on your question and approach.)\n",
    "\n",
    "Format your write-up in the following sections, some of which might be quite short:\n",
    "\n",
    "* Question: What question(s) are you trying to answer?\n",
    "* Approach: What approach/statistical tool did you use to answer the questions?\n",
    "* Results: What evidence/results did your approach provide to answer the questions? (E.g. any numbers, tables, figures as appropriate.)\n",
    "* Conclusion: What are your conclusions about your questions? Provide a written interpretation of your results, understandable to stakeholders who might plausibly take an interest in this data set.\n",
    "\n",
    "Regarding the data itself: In the C50train directory, you have 50 articles from each of 50 different authors (one author per directory). Then in the C50test directory, you have another 50 articles from each of those same 50 authors (again, one author per directory). This train/test split is obviously intended for building predictive models, but to repeat, you need not do that on this problem. You can tell any story you want using any methods you want. Just make it compelling!"
   ]
  },
  {
   "cell_type": "markdown",
   "metadata": {},
   "source": [
    "## Question(s) - What questions are you trying to answer?\n",
    "1. What are the predominant topics present within the corpus of documents?\n",
    "2. Which author(s) should you refer to for a specific topic?"
   ]
  },
  {
   "cell_type": "code",
   "execution_count": 20,
   "metadata": {},
   "outputs": [
    {
     "name": "stderr",
     "output_type": "stream",
     "text": [
      "[nltk_data] Downloading package punkt to\n",
      "[nltk_data]     /Users/manideeptelukuntla/nltk_data...\n",
      "[nltk_data]   Package punkt is already up-to-date!\n"
     ]
    },
    {
     "data": {
      "text/plain": [
       "True"
      ]
     },
     "execution_count": 20,
     "metadata": {},
     "output_type": "execute_result"
    }
   ],
   "source": [
    "# import statements\n",
    "import os\n",
    "import nltk\n",
    "from nltk.tokenize import word_tokenize\n",
    "from nltk.corpus import stopwords\n",
    "from sklearn.feature_extraction.text import CountVectorizer\n",
    "import string\n",
    "from nltk.stem import PorterStemmer\n",
    "\n",
    "nltk.download('punkt') # for tokenizing"
   ]
  },
  {
   "cell_type": "markdown",
   "metadata": {},
   "source": [
    "### Reading the data from a directory"
   ]
  },
  {
   "cell_type": "code",
   "execution_count": 21,
   "metadata": {},
   "outputs": [],
   "source": [
    "# Helper function to read data from a labeled directory\n",
    "def read_data_from_directory(directory_path):\n",
    "    authors = os.listdir(directory_path)\n",
    "    texts = []\n",
    "    labels = []\n",
    "    for author in authors:\n",
    "        author_path = os.path.join(directory_path, author)\n",
    "        for file_name in os.listdir(author_path):\n",
    "            file_path = os.path.join(author_path, file_name)\n",
    "            with open(file_path, 'r', encoding='utf-8') as f:\n",
    "                texts.append(f.read())\n",
    "                labels.append(author)\n",
    "    return texts, labels\n",
    "\n",
    "# Reading the training and test data\n",
    "train_texts, train_labels = read_data_from_directory(\"data/ReutersC50/C50train\")\n",
    "test_texts, test_labels = read_data_from_directory(\"data/ReutersC50/C50test\")"
   ]
  },
  {
   "cell_type": "markdown",
   "metadata": {},
   "source": [
    "## Approach"
   ]
  },
  {
   "cell_type": "markdown",
   "metadata": {},
   "source": [
    "### Data Pre-processing"
   ]
  },
  {
   "cell_type": "markdown",
   "metadata": {},
   "source": [
    "#### Tokenization, Handling Stop Words and Stemming"
   ]
  },
  {
   "cell_type": "markdown",
   "metadata": {},
   "source": [
    "* Tokenized each document in train_texts using word_tokenize() \n",
    "* Certain stopwords were not addressed by the nltk.corpus.stopwords library. To manage these stopwords more efficiently, we utilized a text file sourced from GitHub.\n",
    "* Used PorterStemmer() for stemming"
   ]
  },
  {
   "cell_type": "code",
   "execution_count": 23,
   "metadata": {},
   "outputs": [],
   "source": [
    "import pandas as pd\n",
    "\n",
    "# Reading in the stopwords.txt file sourced from github\n",
    "df = pd.read_csv('stopwords.txt', delimiter=\"\\n\", header=None, names=['stop_words'])\n",
    "stop_words_list = list(df['stop_words'].values)"
   ]
  },
  {
   "cell_type": "code",
   "execution_count": 25,
   "metadata": {},
   "outputs": [],
   "source": [
    "# Tokenize, remove stopwords, and keep words with more than 3 characters\n",
    "texts = []\n",
    "for doc in train_texts:\n",
    "    tokens = word_tokenize(doc.lower())\n",
    "    filtered_tokens = [word for word in tokens if word not in string.punctuation and word not in stop_words_list and len(word) > 3]\n",
    "    stemmer = PorterStemmer()\n",
    "    stemmed_tokens = [stemmer.stem(token) for token in filtered_tokens]\n",
    "    texts.append(stemmed_tokens)"
   ]
  },
  {
   "cell_type": "markdown",
   "metadata": {},
   "source": [
    "#### Feature Extraction\n",
    "* converting each document into a bag-of-words representation"
   ]
  },
  {
   "cell_type": "code",
   "execution_count": 26,
   "metadata": {},
   "outputs": [],
   "source": [
    "from gensim import corpora\n",
    "\n",
    "dictionary = corpora.Dictionary(texts)\n",
    "corpus = [dictionary.doc2bow(text) for text in texts]"
   ]
  },
  {
   "cell_type": "markdown",
   "metadata": {},
   "source": [
    "### Modeling\n",
    "* Here we are doing Topic modeling which is an unsupervised text mining task that takes a corpus of documents and discovers abstract topics within that corpus. The input to a topic model is a collection of documents, and the output is a list of topics that defines words for each topic as well as assignment proportions of each topic in a document. \n",
    "* In our case we are using Latent Dirichlet Allocation (LDA), one of the most popular topic modeling techniques, tries to view a document as a collection of topics and a topic as a collection of words. Under the hood LDA works in the following way:\n",
    "    * **Initialization:** LDA begins by making a random guess about which words belong to which topics.\n",
    "    * **Refinement:** LDA then goes through each document and reassigns various words to topics based on two ideas:\n",
    "        * How prevalent is that word across topics?\n",
    "        * How prevalent are topics in that particular document?\n",
    "* We used coherence scores and perplexity to figure out the right number of passes for LDA Model"
   ]
  },
  {
   "cell_type": "code",
   "execution_count": 27,
   "metadata": {},
   "outputs": [],
   "source": [
    "from gensim.models.ldamodel import LdaModel\n",
    "from gensim.models.coherencemodel import CoherenceModel\n",
    "import matplotlib.pyplot as plt\n",
    "\n",
    "NUM_TOPICS = 10\n",
    "\n",
    "# Lists to store results\n",
    "pass_values = list(range(1, 51))\n",
    "coherence_values = []\n",
    "perplexity_values = []\n",
    "\n",
    "# Iterate over different pass values\n",
    "for num_passes in pass_values:\n",
    "    # Train LDA model\n",
    "    lda_model = LdaModel(corpus, num_topics=NUM_TOPICS, id2word=dictionary, passes=num_passes, random_state=42)\n",
    "    \n",
    "    # Calculate perplexity and coherence\n",
    "    perplexity = lda_model.log_perplexity(corpus)\n",
    "    coherence_model = CoherenceModel(model=lda_model, texts=texts, dictionary=dictionary, coherence='c_v')\n",
    "    coherence = coherence_model.get_coherence()\n",
    "    \n",
    "    # Append results to lists\n",
    "    perplexity_values.append(perplexity)\n",
    "    coherence_values.append(coherence)"
   ]
  },
  {
   "cell_type": "code",
   "execution_count": 28,
   "metadata": {},
   "outputs": [
    {
     "data": {
      "image/png": "[encoded data removed]",
      "text/plain": [
       "<Figure size 1296x576 with 2 Axes>"
      ]
     },
     "metadata": {
      "needs_background": "light"
     },
     "output_type": "display_data"
    }
   ],
   "source": [
    "# Plot results\n",
    "fig, ax1 = plt.subplots(figsize=(18, 8))\n",
    "\n",
    "# Twin the axes\n",
    "ax2 = ax1.twinx()\n",
    "\n",
    "# Plot data\n",
    "ax1.plot(pass_values, coherence_values, 'g-')\n",
    "ax2.plot(pass_values, perplexity_values, 'b-')\n",
    "\n",
    "# Set the y axis labels\n",
    "ax1.set_ylabel('Coherence Score', color='g')\n",
    "ax2.set_ylabel('Log Perplexity', color='b')\n",
    "\n",
    "# Set x axis label\n",
    "ax1.set_xlabel('Number of Passes')\n",
    "\n",
    "ax1.set_xticks(np.arange(1, 51, 1))\n",
    "\n",
    "# Show the plot\n",
    "plt.show()"
   ]
  },
  {
   "cell_type": "markdown",
   "metadata": {},
   "source": [
    "* From the graph, we identified the optimal number of passes to be 48 by noting where the improvements began to level off. We made this determination by testing a range of values and comparing the results using both coherence score and perplexity.\n",
    "* Given the computational constraints, we opted for fewer passes, even though additional passes might yield improved results."
   ]
  },
  {
   "cell_type": "code",
   "execution_count": 29,
   "metadata": {},
   "outputs": [],
   "source": [
    "# Optimum model\n",
    "lda_model = LdaModel(corpus, num_topics=NUM_TOPICS, id2word=dictionary, passes=48, random_state=42)"
   ]
  },
  {
   "cell_type": "markdown",
   "metadata": {},
   "source": [
    "## Topic Interpretation\n",
    "* This answers the question: 1. What are the predominant topics present within the corpus of documents?\n",
    "* Since discerning topics highlighted by LDA demands domain-specific knowledge, we referred to ChatGPT to understand some of these topics' meanings."
   ]
  },
  {
   "cell_type": "code",
   "execution_count": 34,
   "metadata": {},
   "outputs": [
    {
     "name": "stdout",
     "output_type": "stream",
     "text": [
      "Topic: 0\n",
      "Words: 0.010*\"compani\" + 0.008*\"u.s.\" + 0.008*\"court\" + 0.006*\"rule\" + 0.006*\"industri\" + 0.006*\"state\" + 0.006*\"offer\" + 0.005*\"plan\" + 0.005*\"case\" + 0.005*\"tobacco\"\n"
     ]
    }
   ],
   "source": [
    "print(\"Topic: {}\".format(lda_model.print_topics(-1)[0][0]))\n",
    "print(\"Words: {}\".format(lda_model.print_topics(-1)[0][1]))"
   ]
  },
  {
   "cell_type": "markdown",
   "metadata": {},
   "source": [
    "* **Likely Subject:** Legal and Regulatory Concerns in Industries\n",
    "* **Description:** This topic seems to revolve around companies and their legal interactions. With words like \"court,\" \"rule,\" \"case,\" and \"tobacco,\" it hints at legal cases and regulations that companies may face, perhaps focusing on the tobacco industry as one of the notable cases."
   ]
  },
  {
   "cell_type": "code",
   "execution_count": 35,
   "metadata": {},
   "outputs": [
    {
     "name": "stdout",
     "output_type": "stream",
     "text": [
      "Topic: 1\n",
      "Words: 0.013*\"u.s.\" + 0.009*\"state\" + 0.007*\"czech\" + 0.007*\"offici\" + 0.006*\"govern\" + 0.006*\"boe\" + 0.006*\"unit\" + 0.005*\"airbu\" + 0.005*\"presid\" + 0.004*\"elect\"\n"
     ]
    }
   ],
   "source": [
    "print(\"Topic: {}\".format(lda_model.print_topics(-1)[1][0]))\n",
    "print(\"Words: {}\".format(lda_model.print_topics(-1)[1][1]))"
   ]
  },
  {
   "cell_type": "markdown",
   "metadata": {},
   "source": [
    "* **Likely Subject:** U.S. International Relations and Trade\n",
    "* **Description:** This topic features a mix of words related to international interactions, with references to the U.S., the Czech Republic, officials, and trade. It suggests discussions on U.S. foreign relations and trade agreements."
   ]
  },
  {
   "cell_type": "code",
   "execution_count": 36,
   "metadata": {},
   "outputs": [
    {
     "name": "stdout",
     "output_type": "stream",
     "text": [
      "Topic: 2\n",
      "Words: 0.022*\"year\" + 0.019*\"profit\" + 0.018*\"percent\" + 0.012*\"export\" + 0.011*\"tonn\" + 0.010*\"sale\" + 0.009*\"price\" + 0.009*\"pound\" + 0.009*\"market\" + 0.009*\"cocoa\"\n"
     ]
    }
   ],
   "source": [
    "print(\"Topic: {}\".format(lda_model.print_topics(-1)[2][0]))\n",
    "print(\"Words: {}\".format(lda_model.print_topics(-1)[2][1]))"
   ]
  },
  {
   "cell_type": "markdown",
   "metadata": {},
   "source": [
    "* **Likely Subject:** Global Commodities Market\n",
    "* **Description:** Words such as \"profit,\" \"export,\" \"tonne,\" \"price,\" \"cocoa,\" and \"market\" suggest this topic pertains to the global commodities market, where products like cocoa are traded and the focus is on sales, prices, and exports."
   ]
  },
  {
   "cell_type": "code",
   "execution_count": 37,
   "metadata": {},
   "outputs": [
    {
     "name": "stdout",
     "output_type": "stream",
     "text": [
      "Topic: 3\n",
      "Words: 0.016*\"news\" + 0.014*\"internet\" + 0.013*\"servic\" + 0.012*\"comput\" + 0.010*\"corp\" + 0.010*\"compani\" + 0.009*\"year\" + 0.009*\"analyst\" + 0.009*\"network\" + 0.008*\"televis\"\n"
     ]
    }
   ],
   "source": [
    "print(\"Topic: {}\".format(lda_model.print_topics(-1)[3][0]))\n",
    "print(\"Words: {}\".format(lda_model.print_topics(-1)[3][1]))"
   ]
  },
  {
   "cell_type": "markdown",
   "metadata": {},
   "source": [
    "* **Likely Subject:** Technology and Media Industry\n",
    "* **Description:** The presence of words like \"news,\" \"internet,\" \"service,\" \"computer,\" and \"network\" indicate this topic's focus on the tech and media industries, especially in relation to internet services and computer networks."
   ]
  },
  {
   "cell_type": "code",
   "execution_count": 38,
   "metadata": {},
   "outputs": [
    {
     "name": "stdout",
     "output_type": "stream",
     "text": [
      "Topic: 4\n",
      "Words: 0.035*\"hong\" + 0.035*\"kong\" + 0.030*\"china\" + 0.014*\"chines\" + 0.012*\"beij\" + 0.009*\"tung\" + 0.009*\"year\" + 0.009*\"peopl\" + 0.006*\"govern\" + 0.006*\"parti\"\n"
     ]
    }
   ],
   "source": [
    "print(\"Topic: {}\".format(lda_model.print_topics(-1)[4][0]))\n",
    "print(\"Words: {}\".format(lda_model.print_topics(-1)[4][1]))"
   ]
  },
  {
   "cell_type": "markdown",
   "metadata": {},
   "source": [
    "**Topic 4:**\n",
    "\n",
    "* **Likely Subject:** China-Hong Kong Relations\n",
    "* **Description:** This topic predominantly revolves around Hong Kong and China, suggesting discussions on their political and social relations, with mentions of Beijing and Tung (possibly Tung Chee-hwa, a significant political figure in Hong Kong)."
   ]
  },
  {
   "cell_type": "code",
   "execution_count": 39,
   "metadata": {},
   "outputs": [
    {
     "name": "stdout",
     "output_type": "stream",
     "text": [
      "Topic: 5\n",
      "Words: 0.018*\"plant\" + 0.017*\"ford\" + 0.014*\"worker\" + 0.013*\"sale\" + 0.011*\"vehicl\" + 0.008*\"automak\" + 0.008*\"unit\" + 0.008*\"truck\" + 0.008*\"chrysler\" + 0.008*\"motor\"\n"
     ]
    }
   ],
   "source": [
    "print(\"Topic: {}\".format(lda_model.print_topics(-1)[5][0]))\n",
    "print(\"Words: {}\".format(lda_model.print_topics(-1)[5][1]))"
   ]
  },
  {
   "cell_type": "markdown",
   "metadata": {},
   "source": [
    "* **Likely Subject:** Automobile Industry\n",
    "* **Description:** Words like \"plant,\" \"Ford,\" \"vehicle,\" \"truck,\" \"Chrysler,\" and \"motor\" give a strong indication that this topic concerns the automobile industry, possibly focusing on production, sales, and major automobile companies."
   ]
  },
  {
   "cell_type": "code",
   "execution_count": 40,
   "metadata": {},
   "outputs": [
    {
     "name": "stdout",
     "output_type": "stream",
     "text": [
      "Topic: 6\n",
      "Words: 0.021*\"market\" + 0.012*\"fund\" + 0.011*\"china\" + 0.010*\"share\" + 0.010*\"compani\" + 0.010*\"manag\" + 0.010*\"shanghai\" + 0.009*\"trade\" + 0.008*\"secur\" + 0.008*\"invest\"\n"
     ]
    }
   ],
   "source": [
    "print(\"Topic: {}\".format(lda_model.print_topics(-1)[6][0]))\n",
    "print(\"Words: {}\".format(lda_model.print_topics(-1)[6][1]))"
   ]
  },
  {
   "cell_type": "markdown",
   "metadata": {},
   "source": [
    "* **Likely Subject:** Chinese Financial Market\n",
    "* **Description:** The focus here appears to be on financial markets, particularly in China, given references to Shanghai. Words like \"fund,\" \"share,\" and \"trade\" suggest market operations and investment dynamics."
   ]
  },
  {
   "cell_type": "code",
   "execution_count": 41,
   "metadata": {},
   "outputs": [
    {
     "name": "stdout",
     "output_type": "stream",
     "text": [
      "Topic: 7\n",
      "Words: 0.031*\"percent\" + 0.022*\"year\" + 0.016*\"market\" + 0.011*\"share\" + 0.010*\"price\" + 0.010*\"expect\" + 0.010*\"analyst\" + 0.008*\"profit\" + 0.008*\"growth\" + 0.007*\"rate\"\n"
     ]
    }
   ],
   "source": [
    "print(\"Topic: {}\".format(lda_model.print_topics(-1)[7][0]))\n",
    "print(\"Words: {}\".format(lda_model.print_topics(-1)[7][1]))"
   ]
  },
  {
   "cell_type": "markdown",
   "metadata": {},
   "source": [
    "* **Likely Subject:** Economic Analysis and Projections\n",
    "* **Description:** With words like \"percent,\" \"market,\" \"analyst,\" \"growth,\" and \"rate,\" this topic likely covers economic trends, market analysis, and financial projections."
   ]
  },
  {
   "cell_type": "code",
   "execution_count": 42,
   "metadata": {},
   "outputs": [
    {
     "name": "stdout",
     "output_type": "stream",
     "text": [
      "Topic: 8\n",
      "Words: 0.041*\"bank\" + 0.010*\"financi\" + 0.009*\"fund\" + 0.008*\"compani\" + 0.007*\"invest\" + 0.007*\"billion\" + 0.007*\"manag\" + 0.007*\"year\" + 0.006*\"group\" + 0.006*\"foreign\"\n"
     ]
    }
   ],
   "source": [
    "print(\"Topic: {}\".format(lda_model.print_topics(-1)[8][0]))\n",
    "print(\"Words: {}\".format(lda_model.print_topics(-1)[8][1]))"
   ]
  },
  {
   "cell_type": "markdown",
   "metadata": {},
   "source": [
    "* **Likely Subject:** Banking and Financial Institutions\n",
    "* **Description:** Dominated by the word \"bank\" and complemented by terms like \"financial,\" \"fund,\" \"invest,\" and \"billion,\" this topic seems to delve into the operations, investments, and challenges of banks and financial institutions."
   ]
  },
  {
   "cell_type": "code",
   "execution_count": 43,
   "metadata": {},
   "outputs": [
    {
     "name": "stdout",
     "output_type": "stream",
     "text": [
      "Topic: 9\n",
      "Words: 0.018*\"compani\" + 0.018*\"share\" + 0.014*\"analyst\" + 0.014*\"market\" + 0.013*\"stock\" + 0.012*\"billion\" + 0.010*\"percent\" + 0.008*\"year\" + 0.008*\"deal\" + 0.007*\"telecom\"\n"
     ]
    }
   ],
   "source": [
    "print(\"Topic: {}\".format(lda_model.print_topics(-1)[9][0]))\n",
    "print(\"Words: {}\".format(lda_model.print_topics(-1)[9][1]))"
   ]
  },
  {
   "cell_type": "markdown",
   "metadata": {},
   "source": [
    "**Topic 9:**\n",
    "\n",
    "* **Likely Subject:** Stock Market and Corporate Deals\n",
    "* **Description:** This topic likely deals with stock market dynamics, corporate evaluations, and mergers & acquisitions. Words such as \"company,\" \"share,\" \"stock,\" \"billion,\" \"deal,\" and \"telecom\" suggest discussions on corporate finance, stock evaluations, and possibly the telecommunications sector."
   ]
  },
  {
   "cell_type": "markdown",
   "metadata": {},
   "source": [
    "## Building a Mini Search Engine"
   ]
  },
  {
   "cell_type": "markdown",
   "metadata": {},
   "source": [
    "* We are finding the dominant topic for each document in a corpus using an LDA model. It then maps each topic to the documents where it is dominant and further maps these documents to their corresponding authors. The result is a structured dictionary (topic_doc_author_mapping) where for each topic, you have a list of documents and their respective authors where that topic is dominant."
   ]
  },
  {
   "cell_type": "code",
   "execution_count": 30,
   "metadata": {
    "scrolled": true
   },
   "outputs": [],
   "source": [
    "# Get the topic distribution for each document\n",
    "doc_topics = [lda_model.get_document_topics(doc_bow) for doc_bow in corpus]\n",
    "\n",
    "# Get the dominant topic for each document\n",
    "dominant_topics = [sorted(topics, key=lambda x: x[1], reverse=True)[0][0] for topics in doc_topics]\n",
    "\n",
    "# Map each topic to its respective document indices\n",
    "topic_doc_index_mapping = {}\n",
    "for idx, topic_idx in enumerate(dominant_topics):\n",
    "    topic_name = f\"Topic {topic_idx}\"\n",
    "    if topic_name not in topic_doc_index_mapping:\n",
    "        topic_doc_index_mapping[topic_name] = []\n",
    "    topic_doc_index_mapping[topic_name].append(idx)\n",
    "\n",
    "# retrieve the original documents and their corresponding authors\n",
    "topic_doc_author_mapping = {}\n",
    "for topic, indices in topic_doc_index_mapping.items():\n",
    "    documents_with_authors = [{\"document\": train_texts[i], \"author\": train_labels[i]} for i in indices]\n",
    "    topic_doc_author_mapping[topic] = documents_with_authors"
   ]
  },
  {
   "cell_type": "markdown",
   "metadata": {},
   "source": [
    "* Instead of displaying the orginal document we defined a summarize_text function which generates an extractive summary of the input text(document) by selecting the top-ranked sentences based on the frequencies of their constituent words."
   ]
  },
  {
   "cell_type": "code",
   "execution_count": 31,
   "metadata": {},
   "outputs": [],
   "source": [
    "from nltk.tokenize import sent_tokenize\n",
    "\n",
    "def summarize_text(text, num_of_sentences=5):\n",
    "    # Tokenize sentences\n",
    "    sentences = sent_tokenize(text)\n",
    "\n",
    "    # Calculate word frequency\n",
    "    frequency = {}\n",
    "    stopWords = stop_words_list\n",
    "    words = word_tokenize(text)\n",
    "    for word in words:\n",
    "        word = word.lower()\n",
    "        if word not in stopWords:\n",
    "            if word in frequency:\n",
    "                frequency[word] += 1\n",
    "            else:\n",
    "                frequency[word] = 1\n",
    "\n",
    "    # Rank sentences based on frequency\n",
    "    sentence_scores = {}\n",
    "    for sentence in sentences:\n",
    "        for word, freq in frequency.items():\n",
    "            if word in sentence.lower():\n",
    "                if sentence in sentence_scores:\n",
    "                    sentence_scores[sentence] += freq\n",
    "                else:\n",
    "                    sentence_scores[sentence] = freq\n",
    "\n",
    "   \n",
    "    summary_sentences = sorted(sentence_scores, key=sentence_scores.get, reverse=True)[:num_of_sentences]\n",
    "    summary = ' '.join(summary_sentences)\n",
    "    \n",
    "    return summary"
   ]
  },
  {
   "cell_type": "markdown",
   "metadata": {},
   "source": [
    "* get_documents_and_authors_for_all_topics, processes a given mapping of topics to documents and their authors (topic_doc_author_mapping). It then returns a DataFrame with details about each topic, including the topic name, the associated author name, and a summarized version of the document. "
   ]
  },
  {
   "cell_type": "code",
   "execution_count": 32,
   "metadata": {},
   "outputs": [
    {
     "data": {
      "text/html": [
       "<div>\n",
       "<style scoped>\n",
       "    .dataframe tbody tr th:only-of-type {\n",
       "        vertical-align: middle;\n",
       "    }\n",
       "\n",
       "    .dataframe tbody tr th {\n",
       "        vertical-align: top;\n",
       "    }\n",
       "\n",
       "    .dataframe thead th {\n",
       "        text-align: right;\n",
       "    }\n",
       "</style>\n",
       "<table border=\"1\" class=\"dataframe\">\n",
       "  <thead>\n",
       "    <tr style=\"text-align: right;\">\n",
       "      <th></th>\n",
       "      <th>Topic Name</th>\n",
       "      <th>Author Name</th>\n",
       "      <th>Document Summary</th>\n",
       "    </tr>\n",
       "  </thead>\n",
       "  <tbody>\n",
       "    <tr>\n",
       "      <th>0</th>\n",
       "      <td>Topic 9</td>\n",
       "      <td>RobinSidel</td>\n",
       "      <td>The transaction calls for Twinsburg, Ohio-base...</td>\n",
       "    </tr>\n",
       "    <tr>\n",
       "      <th>1</th>\n",
       "      <td>Topic 9</td>\n",
       "      <td>RobinSidel</td>\n",
       "      <td>But some analysts cited concern about antitrus...</td>\n",
       "    </tr>\n",
       "    <tr>\n",
       "      <th>2</th>\n",
       "      <td>Topic 9</td>\n",
       "      <td>RobinSidel</td>\n",
       "      <td>The merger with Ultramar marks the second majo...</td>\n",
       "    </tr>\n",
       "    <tr>\n",
       "      <th>3</th>\n",
       "      <td>Topic 9</td>\n",
       "      <td>RobinSidel</td>\n",
       "      <td>The proposed union will combine Mattel's highl...</td>\n",
       "    </tr>\n",
       "    <tr>\n",
       "      <th>4</th>\n",
       "      <td>Topic 9</td>\n",
       "      <td>RobinSidel</td>\n",
       "      <td>Ashland has declined to comment further on Pro...</td>\n",
       "    </tr>\n",
       "    <tr>\n",
       "      <th>...</th>\n",
       "      <td>...</td>\n",
       "      <td>...</td>\n",
       "      <td>...</td>\n",
       "    </tr>\n",
       "    <tr>\n",
       "      <th>2495</th>\n",
       "      <td>Topic 4</td>\n",
       "      <td>SarahDavison</td>\n",
       "      <td>And instead of a list of recommendations wrapp...</td>\n",
       "    </tr>\n",
       "    <tr>\n",
       "      <th>2496</th>\n",
       "      <td>Topic 4</td>\n",
       "      <td>SarahDavison</td>\n",
       "      <td>The paramount leader won high praise from busi...</td>\n",
       "    </tr>\n",
       "    <tr>\n",
       "      <th>2497</th>\n",
       "      <td>Topic 4</td>\n",
       "      <td>SarahDavison</td>\n",
       "      <td>Growing numbers of impoverished women from mai...</td>\n",
       "    </tr>\n",
       "    <tr>\n",
       "      <th>2498</th>\n",
       "      <td>Topic 4</td>\n",
       "      <td>SarahDavison</td>\n",
       "      <td>But the cheerful greeting cards, office towers...</td>\n",
       "    </tr>\n",
       "    <tr>\n",
       "      <th>2499</th>\n",
       "      <td>Topic 4</td>\n",
       "      <td>SarahDavison</td>\n",
       "      <td>A Hong Kong government spokesman denied that T...</td>\n",
       "    </tr>\n",
       "  </tbody>\n",
       "</table>\n",
       "<p>2500 rows × 3 columns</p>\n",
       "</div>"
      ],
      "text/plain": [
       "     Topic Name   Author Name  \\\n",
       "0       Topic 9    RobinSidel   \n",
       "1       Topic 9    RobinSidel   \n",
       "2       Topic 9    RobinSidel   \n",
       "3       Topic 9    RobinSidel   \n",
       "4       Topic 9    RobinSidel   \n",
       "...         ...           ...   \n",
       "2495    Topic 4  SarahDavison   \n",
       "2496    Topic 4  SarahDavison   \n",
       "2497    Topic 4  SarahDavison   \n",
       "2498    Topic 4  SarahDavison   \n",
       "2499    Topic 4  SarahDavison   \n",
       "\n",
       "                                       Document Summary  \n",
       "0     The transaction calls for Twinsburg, Ohio-base...  \n",
       "1     But some analysts cited concern about antitrus...  \n",
       "2     The merger with Ultramar marks the second majo...  \n",
       "3     The proposed union will combine Mattel's highl...  \n",
       "4     Ashland has declined to comment further on Pro...  \n",
       "...                                                 ...  \n",
       "2495  And instead of a list of recommendations wrapp...  \n",
       "2496  The paramount leader won high praise from busi...  \n",
       "2497  Growing numbers of impoverished women from mai...  \n",
       "2498  But the cheerful greeting cards, office towers...  \n",
       "2499  A Hong Kong government spokesman denied that T...  \n",
       "\n",
       "[2500 rows x 3 columns]"
      ]
     },
     "execution_count": 32,
     "metadata": {},
     "output_type": "execute_result"
    }
   ],
   "source": [
    "def get_documents_and_authors_for_all_topics(topic_doc_author_mapping):\n",
    "    \"\"\"Returns a DataFrame with columns Topic Name, Author Name, and Document Summary for all topics.\"\"\"\n",
    "    \n",
    "    all_data = []\n",
    "    \n",
    "    for topic_name in topic_doc_author_mapping:\n",
    "        for item in topic_doc_author_mapping[topic_name]:\n",
    "            summarized_doc = summarize_text(item['document'])\n",
    "            author = item['author']\n",
    "            all_data.append({\n",
    "                'Topic Name': topic_name,\n",
    "                'Author Name': author,\n",
    "                'Document Summary': summarized_doc\n",
    "            })\n",
    "    \n",
    "    return pd.DataFrame(all_data)\n",
    "\n",
    "# Get summarized documents and authors for all topics\n",
    "df_mapping = get_documents_and_authors_for_all_topics(topic_doc_author_mapping)\n",
    "df_mapping"
   ]
  },
  {
   "cell_type": "markdown",
   "metadata": {},
   "source": [
    "* We've created a dataframe that displays the top three authors for each topic. This way, when a user chooses a particular topic, we can suggest the most pertinent authors associated with that topic."
   ]
  },
  {
   "cell_type": "code",
   "execution_count": 33,
   "metadata": {},
   "outputs": [
    {
     "data": {
      "text/html": [
       "<div>\n",
       "<style scoped>\n",
       "    .dataframe tbody tr th:only-of-type {\n",
       "        vertical-align: middle;\n",
       "    }\n",
       "\n",
       "    .dataframe tbody tr th {\n",
       "        vertical-align: top;\n",
       "    }\n",
       "\n",
       "    .dataframe thead th {\n",
       "        text-align: right;\n",
       "    }\n",
       "</style>\n",
       "<table border=\"1\" class=\"dataframe\">\n",
       "  <thead>\n",
       "    <tr style=\"text-align: right;\">\n",
       "      <th></th>\n",
       "      <th>Topic Name</th>\n",
       "      <th>Author Name</th>\n",
       "      <th># Docs by Author per Topic</th>\n",
       "      <th># of Docs in Topic</th>\n",
       "      <th>% Contribution to Topic</th>\n",
       "    </tr>\n",
       "  </thead>\n",
       "  <tbody>\n",
       "    <tr>\n",
       "      <th>0</th>\n",
       "      <td>Topic 0</td>\n",
       "      <td>RogerFillion</td>\n",
       "      <td>31</td>\n",
       "      <td>169</td>\n",
       "      <td>18.34</td>\n",
       "    </tr>\n",
       "    <tr>\n",
       "      <th>1</th>\n",
       "      <td>Topic 0</td>\n",
       "      <td>RobinSidel</td>\n",
       "      <td>18</td>\n",
       "      <td>169</td>\n",
       "      <td>10.65</td>\n",
       "    </tr>\n",
       "    <tr>\n",
       "      <th>2</th>\n",
       "      <td>Topic 0</td>\n",
       "      <td>MichaelConnor</td>\n",
       "      <td>16</td>\n",
       "      <td>169</td>\n",
       "      <td>9.47</td>\n",
       "    </tr>\n",
       "    <tr>\n",
       "      <th>3</th>\n",
       "      <td>Topic 1</td>\n",
       "      <td>PierreTran</td>\n",
       "      <td>29</td>\n",
       "      <td>261</td>\n",
       "      <td>11.11</td>\n",
       "    </tr>\n",
       "    <tr>\n",
       "      <th>4</th>\n",
       "      <td>Topic 1</td>\n",
       "      <td>KarlPenhaul</td>\n",
       "      <td>28</td>\n",
       "      <td>261</td>\n",
       "      <td>10.73</td>\n",
       "    </tr>\n",
       "    <tr>\n",
       "      <th>5</th>\n",
       "      <td>Topic 1</td>\n",
       "      <td>JohnMastrini</td>\n",
       "      <td>25</td>\n",
       "      <td>261</td>\n",
       "      <td>9.58</td>\n",
       "    </tr>\n",
       "    <tr>\n",
       "      <th>6</th>\n",
       "      <td>Topic 2</td>\n",
       "      <td>MatthewBunce</td>\n",
       "      <td>40</td>\n",
       "      <td>206</td>\n",
       "      <td>19.42</td>\n",
       "    </tr>\n",
       "    <tr>\n",
       "      <th>7</th>\n",
       "      <td>Topic 2</td>\n",
       "      <td>TimFarrand</td>\n",
       "      <td>38</td>\n",
       "      <td>206</td>\n",
       "      <td>18.45</td>\n",
       "    </tr>\n",
       "    <tr>\n",
       "      <th>8</th>\n",
       "      <td>Topic 2</td>\n",
       "      <td>LynneO'Donnell</td>\n",
       "      <td>15</td>\n",
       "      <td>206</td>\n",
       "      <td>7.28</td>\n",
       "    </tr>\n",
       "    <tr>\n",
       "      <th>9</th>\n",
       "      <td>Topic 3</td>\n",
       "      <td>TheresePoletti</td>\n",
       "      <td>26</td>\n",
       "      <td>213</td>\n",
       "      <td>12.21</td>\n",
       "    </tr>\n",
       "    <tr>\n",
       "      <th>10</th>\n",
       "      <td>Topic 3</td>\n",
       "      <td>KeithWeir</td>\n",
       "      <td>24</td>\n",
       "      <td>213</td>\n",
       "      <td>11.27</td>\n",
       "    </tr>\n",
       "    <tr>\n",
       "      <th>11</th>\n",
       "      <td>Topic 3</td>\n",
       "      <td>SamuelPerry</td>\n",
       "      <td>22</td>\n",
       "      <td>213</td>\n",
       "      <td>10.33</td>\n",
       "    </tr>\n",
       "    <tr>\n",
       "      <th>12</th>\n",
       "      <td>Topic 4</td>\n",
       "      <td>PeterHumphrey</td>\n",
       "      <td>49</td>\n",
       "      <td>231</td>\n",
       "      <td>21.21</td>\n",
       "    </tr>\n",
       "    <tr>\n",
       "      <th>13</th>\n",
       "      <td>Topic 4</td>\n",
       "      <td>TanEeLyn</td>\n",
       "      <td>39</td>\n",
       "      <td>231</td>\n",
       "      <td>16.88</td>\n",
       "    </tr>\n",
       "    <tr>\n",
       "      <th>14</th>\n",
       "      <td>Topic 4</td>\n",
       "      <td>BenjaminKangLim</td>\n",
       "      <td>35</td>\n",
       "      <td>231</td>\n",
       "      <td>15.15</td>\n",
       "    </tr>\n",
       "    <tr>\n",
       "      <th>15</th>\n",
       "      <td>Topic 5</td>\n",
       "      <td>DavidLawder</td>\n",
       "      <td>50</td>\n",
       "      <td>126</td>\n",
       "      <td>39.68</td>\n",
       "    </tr>\n",
       "    <tr>\n",
       "      <th>16</th>\n",
       "      <td>Topic 5</td>\n",
       "      <td>ToddNissen</td>\n",
       "      <td>44</td>\n",
       "      <td>126</td>\n",
       "      <td>34.92</td>\n",
       "    </tr>\n",
       "    <tr>\n",
       "      <th>17</th>\n",
       "      <td>Topic 5</td>\n",
       "      <td>KarlPenhaul</td>\n",
       "      <td>6</td>\n",
       "      <td>126</td>\n",
       "      <td>4.76</td>\n",
       "    </tr>\n",
       "    <tr>\n",
       "      <th>18</th>\n",
       "      <td>Topic 6</td>\n",
       "      <td>GrahamEarnshaw</td>\n",
       "      <td>30</td>\n",
       "      <td>173</td>\n",
       "      <td>17.34</td>\n",
       "    </tr>\n",
       "    <tr>\n",
       "      <th>19</th>\n",
       "      <td>Topic 6</td>\n",
       "      <td>JoWinterbottom</td>\n",
       "      <td>26</td>\n",
       "      <td>173</td>\n",
       "      <td>15.03</td>\n",
       "    </tr>\n",
       "    <tr>\n",
       "      <th>20</th>\n",
       "      <td>Topic 6</td>\n",
       "      <td>AlexanderSmith</td>\n",
       "      <td>17</td>\n",
       "      <td>173</td>\n",
       "      <td>9.83</td>\n",
       "    </tr>\n",
       "    <tr>\n",
       "      <th>21</th>\n",
       "      <td>Topic 7</td>\n",
       "      <td>JimGilchrist</td>\n",
       "      <td>43</td>\n",
       "      <td>294</td>\n",
       "      <td>14.63</td>\n",
       "    </tr>\n",
       "    <tr>\n",
       "      <th>22</th>\n",
       "      <td>Topic 7</td>\n",
       "      <td>MarkBendeich</td>\n",
       "      <td>28</td>\n",
       "      <td>294</td>\n",
       "      <td>9.52</td>\n",
       "    </tr>\n",
       "    <tr>\n",
       "      <th>23</th>\n",
       "      <td>Topic 7</td>\n",
       "      <td>KevinMorrison</td>\n",
       "      <td>19</td>\n",
       "      <td>294</td>\n",
       "      <td>6.46</td>\n",
       "    </tr>\n",
       "    <tr>\n",
       "      <th>24</th>\n",
       "      <td>Topic 8</td>\n",
       "      <td>FumikoFujisaki</td>\n",
       "      <td>43</td>\n",
       "      <td>301</td>\n",
       "      <td>14.29</td>\n",
       "    </tr>\n",
       "    <tr>\n",
       "      <th>25</th>\n",
       "      <td>Topic 8</td>\n",
       "      <td>JoeOrtiz</td>\n",
       "      <td>31</td>\n",
       "      <td>301</td>\n",
       "      <td>10.30</td>\n",
       "    </tr>\n",
       "    <tr>\n",
       "      <th>26</th>\n",
       "      <td>Topic 8</td>\n",
       "      <td>LynnleyBrowning</td>\n",
       "      <td>28</td>\n",
       "      <td>301</td>\n",
       "      <td>9.30</td>\n",
       "    </tr>\n",
       "    <tr>\n",
       "      <th>27</th>\n",
       "      <td>Topic 9</td>\n",
       "      <td>LydiaZajc</td>\n",
       "      <td>44</td>\n",
       "      <td>526</td>\n",
       "      <td>8.37</td>\n",
       "    </tr>\n",
       "    <tr>\n",
       "      <th>28</th>\n",
       "      <td>Topic 9</td>\n",
       "      <td>NickLouth</td>\n",
       "      <td>43</td>\n",
       "      <td>526</td>\n",
       "      <td>8.17</td>\n",
       "    </tr>\n",
       "    <tr>\n",
       "      <th>29</th>\n",
       "      <td>Topic 9</td>\n",
       "      <td>HeatherScoffield</td>\n",
       "      <td>40</td>\n",
       "      <td>526</td>\n",
       "      <td>7.60</td>\n",
       "    </tr>\n",
       "  </tbody>\n",
       "</table>\n",
       "</div>"
      ],
      "text/plain": [
       "   Topic Name       Author Name  # Docs by Author per Topic  \\\n",
       "0     Topic 0      RogerFillion                          31   \n",
       "1     Topic 0        RobinSidel                          18   \n",
       "2     Topic 0     MichaelConnor                          16   \n",
       "3     Topic 1        PierreTran                          29   \n",
       "4     Topic 1       KarlPenhaul                          28   \n",
       "5     Topic 1      JohnMastrini                          25   \n",
       "6     Topic 2      MatthewBunce                          40   \n",
       "7     Topic 2        TimFarrand                          38   \n",
       "8     Topic 2    LynneO'Donnell                          15   \n",
       "9     Topic 3    TheresePoletti                          26   \n",
       "10    Topic 3         KeithWeir                          24   \n",
       "11    Topic 3       SamuelPerry                          22   \n",
       "12    Topic 4     PeterHumphrey                          49   \n",
       "13    Topic 4          TanEeLyn                          39   \n",
       "14    Topic 4   BenjaminKangLim                          35   \n",
       "15    Topic 5       DavidLawder                          50   \n",
       "16    Topic 5        ToddNissen                          44   \n",
       "17    Topic 5       KarlPenhaul                           6   \n",
       "18    Topic 6    GrahamEarnshaw                          30   \n",
       "19    Topic 6    JoWinterbottom                          26   \n",
       "20    Topic 6    AlexanderSmith                          17   \n",
       "21    Topic 7      JimGilchrist                          43   \n",
       "22    Topic 7      MarkBendeich                          28   \n",
       "23    Topic 7     KevinMorrison                          19   \n",
       "24    Topic 8    FumikoFujisaki                          43   \n",
       "25    Topic 8          JoeOrtiz                          31   \n",
       "26    Topic 8   LynnleyBrowning                          28   \n",
       "27    Topic 9         LydiaZajc                          44   \n",
       "28    Topic 9         NickLouth                          43   \n",
       "29    Topic 9  HeatherScoffield                          40   \n",
       "\n",
       "    # of Docs in Topic  % Contribution to Topic  \n",
       "0                  169                    18.34  \n",
       "1                  169                    10.65  \n",
       "2                  169                     9.47  \n",
       "3                  261                    11.11  \n",
       "4                  261                    10.73  \n",
       "5                  261                     9.58  \n",
       "6                  206                    19.42  \n",
       "7                  206                    18.45  \n",
       "8                  206                     7.28  \n",
       "9                  213                    12.21  \n",
       "10                 213                    11.27  \n",
       "11                 213                    10.33  \n",
       "12                 231                    21.21  \n",
       "13                 231                    16.88  \n",
       "14                 231                    15.15  \n",
       "15                 126                    39.68  \n",
       "16                 126                    34.92  \n",
       "17                 126                     4.76  \n",
       "18                 173                    17.34  \n",
       "19                 173                    15.03  \n",
       "20                 173                     9.83  \n",
       "21                 294                    14.63  \n",
       "22                 294                     9.52  \n",
       "23                 294                     6.46  \n",
       "24                 301                    14.29  \n",
       "25                 301                    10.30  \n",
       "26                 301                     9.30  \n",
       "27                 526                     8.37  \n",
       "28                 526                     8.17  \n",
       "29                 526                     7.60  "
      ]
     },
     "execution_count": 33,
     "metadata": {},
     "output_type": "execute_result"
    }
   ],
   "source": [
    "grouped_df = df_mapping.groupby(['Topic Name', 'Author Name'])['Document Summary'].count().reset_index().rename(columns={'Document Summary':'# Docs by Author per Topic'})\n",
    "topic_counts_df = df_mapping['Topic Name'].value_counts().reset_index().rename(columns={'index':'Topic Name', 'Topic Name': '# of Docs in Topic'})\n",
    "merged_df = pd.merge(grouped_df, topic_counts_df, on='Topic Name', how='left')\n",
    "\n",
    "merged_df['% Contribution to Topic'] = (merged_df['# Docs by Author per Topic'] / merged_df['# of Docs in Topic']) * 100\n",
    "merged_df['% Contribution to Topic'] = merged_df['% Contribution to Topic'].round(2)\n",
    "merged_df = merged_df.sort_values(by=['Topic Name', '% Contribution to Topic'], ascending=[True, False])\n",
    "\n",
    "top_3_authors_by_topic = merged_df.groupby('Topic Name').apply(lambda x: x.nlargest(3, '% Contribution to Topic')).reset_index(drop=True)\n",
    "top_3_authors_by_topic"
   ]
  },
  {
   "cell_type": "code",
   "execution_count": 50,
   "metadata": {},
   "outputs": [
    {
     "data": {
      "text/html": [
       "<div>\n",
       "<style scoped>\n",
       "    .dataframe tbody tr th:only-of-type {\n",
       "        vertical-align: middle;\n",
       "    }\n",
       "\n",
       "    .dataframe tbody tr th {\n",
       "        vertical-align: top;\n",
       "    }\n",
       "\n",
       "    .dataframe thead th {\n",
       "        text-align: right;\n",
       "    }\n",
       "</style>\n",
       "<table border=\"1\" class=\"dataframe\">\n",
       "  <thead>\n",
       "    <tr style=\"text-align: right;\">\n",
       "      <th></th>\n",
       "      <th>Topic Name</th>\n",
       "      <th>Author Name</th>\n",
       "      <th># Docs by Author per Topic</th>\n",
       "      <th># of Docs in Topic</th>\n",
       "      <th>% Contribution to Topic</th>\n",
       "      <th>Topic Description</th>\n",
       "    </tr>\n",
       "  </thead>\n",
       "  <tbody>\n",
       "    <tr>\n",
       "      <th>0</th>\n",
       "      <td>Topic 0</td>\n",
       "      <td>RogerFillion</td>\n",
       "      <td>31</td>\n",
       "      <td>169</td>\n",
       "      <td>18.34</td>\n",
       "      <td>Legal and Regulatory Concerns in Industries</td>\n",
       "    </tr>\n",
       "    <tr>\n",
       "      <th>1</th>\n",
       "      <td>Topic 0</td>\n",
       "      <td>RobinSidel</td>\n",
       "      <td>18</td>\n",
       "      <td>169</td>\n",
       "      <td>10.65</td>\n",
       "      <td>Legal and Regulatory Concerns in Industries</td>\n",
       "    </tr>\n",
       "    <tr>\n",
       "      <th>2</th>\n",
       "      <td>Topic 0</td>\n",
       "      <td>MichaelConnor</td>\n",
       "      <td>16</td>\n",
       "      <td>169</td>\n",
       "      <td>9.47</td>\n",
       "      <td>Legal and Regulatory Concerns in Industries</td>\n",
       "    </tr>\n",
       "    <tr>\n",
       "      <th>3</th>\n",
       "      <td>Topic 1</td>\n",
       "      <td>PierreTran</td>\n",
       "      <td>29</td>\n",
       "      <td>261</td>\n",
       "      <td>11.11</td>\n",
       "      <td>U.S. International Relations and Trade</td>\n",
       "    </tr>\n",
       "    <tr>\n",
       "      <th>4</th>\n",
       "      <td>Topic 1</td>\n",
       "      <td>KarlPenhaul</td>\n",
       "      <td>28</td>\n",
       "      <td>261</td>\n",
       "      <td>10.73</td>\n",
       "      <td>U.S. International Relations and Trade</td>\n",
       "    </tr>\n",
       "    <tr>\n",
       "      <th>5</th>\n",
       "      <td>Topic 1</td>\n",
       "      <td>JohnMastrini</td>\n",
       "      <td>25</td>\n",
       "      <td>261</td>\n",
       "      <td>9.58</td>\n",
       "      <td>U.S. International Relations and Trade</td>\n",
       "    </tr>\n",
       "    <tr>\n",
       "      <th>6</th>\n",
       "      <td>Topic 2</td>\n",
       "      <td>MatthewBunce</td>\n",
       "      <td>40</td>\n",
       "      <td>206</td>\n",
       "      <td>19.42</td>\n",
       "      <td>Global Commodities Market</td>\n",
       "    </tr>\n",
       "    <tr>\n",
       "      <th>7</th>\n",
       "      <td>Topic 2</td>\n",
       "      <td>TimFarrand</td>\n",
       "      <td>38</td>\n",
       "      <td>206</td>\n",
       "      <td>18.45</td>\n",
       "      <td>Global Commodities Market</td>\n",
       "    </tr>\n",
       "    <tr>\n",
       "      <th>8</th>\n",
       "      <td>Topic 2</td>\n",
       "      <td>LynneO'Donnell</td>\n",
       "      <td>15</td>\n",
       "      <td>206</td>\n",
       "      <td>7.28</td>\n",
       "      <td>Global Commodities Market</td>\n",
       "    </tr>\n",
       "    <tr>\n",
       "      <th>9</th>\n",
       "      <td>Topic 3</td>\n",
       "      <td>TheresePoletti</td>\n",
       "      <td>26</td>\n",
       "      <td>213</td>\n",
       "      <td>12.21</td>\n",
       "      <td>Technology and Media Industry</td>\n",
       "    </tr>\n",
       "    <tr>\n",
       "      <th>10</th>\n",
       "      <td>Topic 3</td>\n",
       "      <td>KeithWeir</td>\n",
       "      <td>24</td>\n",
       "      <td>213</td>\n",
       "      <td>11.27</td>\n",
       "      <td>Technology and Media Industry</td>\n",
       "    </tr>\n",
       "    <tr>\n",
       "      <th>11</th>\n",
       "      <td>Topic 3</td>\n",
       "      <td>SamuelPerry</td>\n",
       "      <td>22</td>\n",
       "      <td>213</td>\n",
       "      <td>10.33</td>\n",
       "      <td>Technology and Media Industry</td>\n",
       "    </tr>\n",
       "    <tr>\n",
       "      <th>12</th>\n",
       "      <td>Topic 4</td>\n",
       "      <td>PeterHumphrey</td>\n",
       "      <td>49</td>\n",
       "      <td>231</td>\n",
       "      <td>21.21</td>\n",
       "      <td>China-Hong Kong Relations</td>\n",
       "    </tr>\n",
       "    <tr>\n",
       "      <th>13</th>\n",
       "      <td>Topic 4</td>\n",
       "      <td>TanEeLyn</td>\n",
       "      <td>39</td>\n",
       "      <td>231</td>\n",
       "      <td>16.88</td>\n",
       "      <td>China-Hong Kong Relations</td>\n",
       "    </tr>\n",
       "    <tr>\n",
       "      <th>14</th>\n",
       "      <td>Topic 4</td>\n",
       "      <td>BenjaminKangLim</td>\n",
       "      <td>35</td>\n",
       "      <td>231</td>\n",
       "      <td>15.15</td>\n",
       "      <td>China-Hong Kong Relations</td>\n",
       "    </tr>\n",
       "    <tr>\n",
       "      <th>15</th>\n",
       "      <td>Topic 5</td>\n",
       "      <td>DavidLawder</td>\n",
       "      <td>50</td>\n",
       "      <td>126</td>\n",
       "      <td>39.68</td>\n",
       "      <td>Automobile Industry</td>\n",
       "    </tr>\n",
       "    <tr>\n",
       "      <th>16</th>\n",
       "      <td>Topic 5</td>\n",
       "      <td>ToddNissen</td>\n",
       "      <td>44</td>\n",
       "      <td>126</td>\n",
       "      <td>34.92</td>\n",
       "      <td>Automobile Industry</td>\n",
       "    </tr>\n",
       "    <tr>\n",
       "      <th>17</th>\n",
       "      <td>Topic 5</td>\n",
       "      <td>KarlPenhaul</td>\n",
       "      <td>6</td>\n",
       "      <td>126</td>\n",
       "      <td>4.76</td>\n",
       "      <td>Automobile Industry</td>\n",
       "    </tr>\n",
       "    <tr>\n",
       "      <th>18</th>\n",
       "      <td>Topic 6</td>\n",
       "      <td>GrahamEarnshaw</td>\n",
       "      <td>30</td>\n",
       "      <td>173</td>\n",
       "      <td>17.34</td>\n",
       "      <td>Chinese Financial Market</td>\n",
       "    </tr>\n",
       "    <tr>\n",
       "      <th>19</th>\n",
       "      <td>Topic 6</td>\n",
       "      <td>JoWinterbottom</td>\n",
       "      <td>26</td>\n",
       "      <td>173</td>\n",
       "      <td>15.03</td>\n",
       "      <td>Chinese Financial Market</td>\n",
       "    </tr>\n",
       "    <tr>\n",
       "      <th>20</th>\n",
       "      <td>Topic 6</td>\n",
       "      <td>AlexanderSmith</td>\n",
       "      <td>17</td>\n",
       "      <td>173</td>\n",
       "      <td>9.83</td>\n",
       "      <td>Chinese Financial Market</td>\n",
       "    </tr>\n",
       "    <tr>\n",
       "      <th>21</th>\n",
       "      <td>Topic 7</td>\n",
       "      <td>JimGilchrist</td>\n",
       "      <td>43</td>\n",
       "      <td>294</td>\n",
       "      <td>14.63</td>\n",
       "      <td>Economic Analysis and Projections</td>\n",
       "    </tr>\n",
       "    <tr>\n",
       "      <th>22</th>\n",
       "      <td>Topic 7</td>\n",
       "      <td>MarkBendeich</td>\n",
       "      <td>28</td>\n",
       "      <td>294</td>\n",
       "      <td>9.52</td>\n",
       "      <td>Economic Analysis and Projections</td>\n",
       "    </tr>\n",
       "    <tr>\n",
       "      <th>23</th>\n",
       "      <td>Topic 7</td>\n",
       "      <td>KevinMorrison</td>\n",
       "      <td>19</td>\n",
       "      <td>294</td>\n",
       "      <td>6.46</td>\n",
       "      <td>Economic Analysis and Projections</td>\n",
       "    </tr>\n",
       "    <tr>\n",
       "      <th>24</th>\n",
       "      <td>Topic 8</td>\n",
       "      <td>FumikoFujisaki</td>\n",
       "      <td>43</td>\n",
       "      <td>301</td>\n",
       "      <td>14.29</td>\n",
       "      <td>Banking and Financial Institutions</td>\n",
       "    </tr>\n",
       "    <tr>\n",
       "      <th>25</th>\n",
       "      <td>Topic 8</td>\n",
       "      <td>JoeOrtiz</td>\n",
       "      <td>31</td>\n",
       "      <td>301</td>\n",
       "      <td>10.30</td>\n",
       "      <td>Banking and Financial Institutions</td>\n",
       "    </tr>\n",
       "    <tr>\n",
       "      <th>26</th>\n",
       "      <td>Topic 8</td>\n",
       "      <td>LynnleyBrowning</td>\n",
       "      <td>28</td>\n",
       "      <td>301</td>\n",
       "      <td>9.30</td>\n",
       "      <td>Banking and Financial Institutions</td>\n",
       "    </tr>\n",
       "    <tr>\n",
       "      <th>27</th>\n",
       "      <td>Topic 9</td>\n",
       "      <td>LydiaZajc</td>\n",
       "      <td>44</td>\n",
       "      <td>526</td>\n",
       "      <td>8.37</td>\n",
       "      <td>Stock Market and Corporate Deals</td>\n",
       "    </tr>\n",
       "    <tr>\n",
       "      <th>28</th>\n",
       "      <td>Topic 9</td>\n",
       "      <td>NickLouth</td>\n",
       "      <td>43</td>\n",
       "      <td>526</td>\n",
       "      <td>8.17</td>\n",
       "      <td>Stock Market and Corporate Deals</td>\n",
       "    </tr>\n",
       "    <tr>\n",
       "      <th>29</th>\n",
       "      <td>Topic 9</td>\n",
       "      <td>HeatherScoffield</td>\n",
       "      <td>40</td>\n",
       "      <td>526</td>\n",
       "      <td>7.60</td>\n",
       "      <td>Stock Market and Corporate Deals</td>\n",
       "    </tr>\n",
       "  </tbody>\n",
       "</table>\n",
       "</div>"
      ],
      "text/plain": [
       "   Topic Name       Author Name  # Docs by Author per Topic  \\\n",
       "0     Topic 0      RogerFillion                          31   \n",
       "1     Topic 0        RobinSidel                          18   \n",
       "2     Topic 0     MichaelConnor                          16   \n",
       "3     Topic 1        PierreTran                          29   \n",
       "4     Topic 1       KarlPenhaul                          28   \n",
       "5     Topic 1      JohnMastrini                          25   \n",
       "6     Topic 2      MatthewBunce                          40   \n",
       "7     Topic 2        TimFarrand                          38   \n",
       "8     Topic 2    LynneO'Donnell                          15   \n",
       "9     Topic 3    TheresePoletti                          26   \n",
       "10    Topic 3         KeithWeir                          24   \n",
       "11    Topic 3       SamuelPerry                          22   \n",
       "12    Topic 4     PeterHumphrey                          49   \n",
       "13    Topic 4          TanEeLyn                          39   \n",
       "14    Topic 4   BenjaminKangLim                          35   \n",
       "15    Topic 5       DavidLawder                          50   \n",
       "16    Topic 5        ToddNissen                          44   \n",
       "17    Topic 5       KarlPenhaul                           6   \n",
       "18    Topic 6    GrahamEarnshaw                          30   \n",
       "19    Topic 6    JoWinterbottom                          26   \n",
       "20    Topic 6    AlexanderSmith                          17   \n",
       "21    Topic 7      JimGilchrist                          43   \n",
       "22    Topic 7      MarkBendeich                          28   \n",
       "23    Topic 7     KevinMorrison                          19   \n",
       "24    Topic 8    FumikoFujisaki                          43   \n",
       "25    Topic 8          JoeOrtiz                          31   \n",
       "26    Topic 8   LynnleyBrowning                          28   \n",
       "27    Topic 9         LydiaZajc                          44   \n",
       "28    Topic 9         NickLouth                          43   \n",
       "29    Topic 9  HeatherScoffield                          40   \n",
       "\n",
       "    # of Docs in Topic  % Contribution to Topic  \\\n",
       "0                  169                    18.34   \n",
       "1                  169                    10.65   \n",
       "2                  169                     9.47   \n",
       "3                  261                    11.11   \n",
       "4                  261                    10.73   \n",
       "5                  261                     9.58   \n",
       "6                  206                    19.42   \n",
       "7                  206                    18.45   \n",
       "8                  206                     7.28   \n",
       "9                  213                    12.21   \n",
       "10                 213                    11.27   \n",
       "11                 213                    10.33   \n",
       "12                 231                    21.21   \n",
       "13                 231                    16.88   \n",
       "14                 231                    15.15   \n",
       "15                 126                    39.68   \n",
       "16                 126                    34.92   \n",
       "17                 126                     4.76   \n",
       "18                 173                    17.34   \n",
       "19                 173                    15.03   \n",
       "20                 173                     9.83   \n",
       "21                 294                    14.63   \n",
       "22                 294                     9.52   \n",
       "23                 294                     6.46   \n",
       "24                 301                    14.29   \n",
       "25                 301                    10.30   \n",
       "26                 301                     9.30   \n",
       "27                 526                     8.37   \n",
       "28                 526                     8.17   \n",
       "29                 526                     7.60   \n",
       "\n",
       "                              Topic Description  \n",
       "0   Legal and Regulatory Concerns in Industries  \n",
       "1   Legal and Regulatory Concerns in Industries  \n",
       "2   Legal and Regulatory Concerns in Industries  \n",
       "3        U.S. International Relations and Trade  \n",
       "4        U.S. International Relations and Trade  \n",
       "5        U.S. International Relations and Trade  \n",
       "6                     Global Commodities Market  \n",
       "7                     Global Commodities Market  \n",
       "8                     Global Commodities Market  \n",
       "9                 Technology and Media Industry  \n",
       "10                Technology and Media Industry  \n",
       "11                Technology and Media Industry  \n",
       "12                    China-Hong Kong Relations  \n",
       "13                    China-Hong Kong Relations  \n",
       "14                    China-Hong Kong Relations  \n",
       "15                          Automobile Industry  \n",
       "16                          Automobile Industry  \n",
       "17                          Automobile Industry  \n",
       "18                     Chinese Financial Market  \n",
       "19                     Chinese Financial Market  \n",
       "20                     Chinese Financial Market  \n",
       "21            Economic Analysis and Projections  \n",
       "22            Economic Analysis and Projections  \n",
       "23            Economic Analysis and Projections  \n",
       "24           Banking and Financial Institutions  \n",
       "25           Banking and Financial Institutions  \n",
       "26           Banking and Financial Institutions  \n",
       "27             Stock Market and Corporate Deals  \n",
       "28             Stock Market and Corporate Deals  \n",
       "29             Stock Market and Corporate Deals  "
      ]
     },
     "execution_count": 50,
     "metadata": {},
     "output_type": "execute_result"
    }
   ],
   "source": [
    "topic_name_to_description_mapping = {\n",
    "    'Topic 0': 'Legal and Regulatory Concerns in Industries',\n",
    "    'Topic 1': 'U.S. International Relations and Trade',\n",
    "    'Topic 2': 'Global Commodities Market',\n",
    "    'Topic 3': 'Technology and Media Industry',\n",
    "    'Topic 4': 'China-Hong Kong Relations',\n",
    "    'Topic 5': 'Automobile Industry',\n",
    "    'Topic 6': 'Chinese Financial Market',\n",
    "    'Topic 7': 'Economic Analysis and Projections',\n",
    "    'Topic 8': 'Banking and Financial Institutions',\n",
    "    'Topic 9': 'Stock Market and Corporate Deals'\n",
    "}\n",
    "top_3_authors_by_topic['Topic Description'] = top_3_authors_by_topic['Topic Name'].map(topic_name_to_description_mapping)\n",
    "top_3_authors_by_topic"
   ]
  },
  {
   "cell_type": "markdown",
   "metadata": {},
   "source": [
    "## Results"
   ]
  },
  {
   "cell_type": "markdown",
   "metadata": {},
   "source": [
    "* This answers the question: 2. Which author(s) should you refer to for a specific topic?\n",
    "* The code provides an interactive way for the user to select a topic and recommend authors.\n",
    "* Given the data's scope is restricted to certain topics, we've guided users to select from a predefined list of topics."
   ]
  },
  {
   "cell_type": "code",
   "execution_count": 51,
   "metadata": {},
   "outputs": [
    {
     "name": "stdout",
     "output_type": "stream",
     "text": [
      "Available topics are:\n",
      "1. Legal and Regulatory Concerns in Industries\n",
      "2. U.S. International Relations and Trade\n",
      "3. Global Commodities Market\n",
      "4. Technology and Media Industry\n",
      "5. China-Hong Kong Relations\n",
      "6. Automobile Industry\n",
      "7. Chinese Financial Market\n",
      "8. Economic Analysis and Projections\n",
      "9. Banking and Financial Institutions\n",
      "10. Stock Market and Corporate Deals\n",
      "Choose a topic number: 7\n",
      "Authors associated with the selected topic are: GrahamEarnshaw, JoWinterbottom, AlexanderSmith\n"
     ]
    }
   ],
   "source": [
    "def get_authors_by_topic(topic_name, dataframe):\n",
    "    '''Given a topic name, return the associated authors.'''\n",
    "    authors = dataframe[dataframe['Topic Description'] == topic_name]['Author Name'].tolist()\n",
    "    return authors\n",
    "\n",
    "def display_topics_and_choose(dataframe):\n",
    "    '''Display available topics and prompt user to choose one.'''\n",
    "    topics = dataframe['Topic Description'].unique()\n",
    "    print(\"Available topics are:\")\n",
    "    for index, topic in enumerate(topics, 1):\n",
    "        print(f\"{index}. {topic}\")\n",
    "    \n",
    "    choice = int(input(\"Choose a topic number: \"))\n",
    "    if 1 <= choice <= len(topics):\n",
    "        selected_topic = topics[choice - 1]\n",
    "        authors = get_authors_by_topic(selected_topic, dataframe)\n",
    "        return authors\n",
    "    else:\n",
    "        print(\"Invalid choice.\")\n",
    "        return []\n",
    "\n",
    "authors = display_topics_and_choose(top_3_authors_by_topic)\n",
    "print(f\"Authors associated with the selected topic are: {', '.join(authors)}\")"
   ]
  },
  {
   "cell_type": "markdown",
   "metadata": {},
   "source": [
    "## Conclusions"
   ]
  },
  {
   "cell_type": "markdown",
   "metadata": {},
   "source": [
    "In conclusion, \n",
    "* From the topic modeling, we found that the topics predominantly revolve around various facets of business and politics. They cover legalities in U.S. industries, U.S. foreign relations, global financial trends, and trade. Technology's influence on media, political dynamics between China and Hong Kong, and nuances of the automotive industry are also highlighted. The discussions further delve into China's financial impact globally, comprehensive market analyses, and the intricate world of banking, complemented by insights into corporate business and telecommunications.\n",
    "\n",
    "* Harnessing the prowess of the LDA model in topic modeling, we've designed a dynamic system to spotlight authors perfectly aligned with your chosen topic."
   ]
  },
  {
   "cell_type": "markdown",
   "metadata": {},
   "source": [
    "## Further Enhancements"
   ]
  },
  {
   "cell_type": "markdown",
   "metadata": {},
   "source": [
    "* We might consider using lemmatization as an alternative to stemming. Lemmatization, unlike stemming, reduces words to their base or dictionary form, often ensuring more meaningful and accurate representations. This nuanced approach could potentially enhance the results by preserving the semantic essence of words.\n",
    "* Additional enhancements could include features like recommending specific documents based on a chosen topic. This is something we would like to implement in the future iterations.\n",
    "* We also need to evaluate the stability of the model. One strategy we're considering is training several LDA models using different random seeds, but keeping the number of passes consistent. If the topics produced are fairly consistent across the models, it suggests the model's stability."
   ]
  }
 ],
 "metadata": {
  "kernelspec": {
   "display_name": "Python 3",
   "language": "python",
   "name": "python3"
  },
  "language_info": {
   "codemirror_mode": {
    "name": "ipython",
    "version": 3
   },
   "file_extension": ".py",
   "mimetype": "text/x-python",
   "name": "python",
   "nbconvert_exporter": "python",
   "pygments_lexer": "ipython3",
   "version": "3.7.4"
  }
 },
 "nbformat": 4,
 "nbformat_minor": 2
}
