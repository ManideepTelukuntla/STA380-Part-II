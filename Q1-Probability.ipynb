{
 "cells": [
  {
   "cell_type": "markdown",
   "metadata": {},
   "source": [
    "## Q1.Probability"
   ]
  },
  {
   "cell_type": "markdown",
   "metadata": {},
   "source": [
    "### Part A\n",
    "Visitors to your website are asked to answer a single survey question before they get access to the content on the page. Among all of the users, there are two categories: Random Clicker (RC), and Truthful Clicker (TC). There are two possible answers to the survey: yes and no. Random clickers would click either one with equal probability. You are also giving the information that the expected fraction of random clickers is 0.3. After a trial period, you get the following survey results: 65% said Yes and 35% said No. What fraction of people who are truthful clickers answered yes? Hint: use the rule of total probability."
   ]
  },
  {
   "cell_type": "markdown",
   "metadata": {},
   "source": [
    "### Solution"
   ]
  },
  {
   "cell_type": "markdown",
   "metadata": {},
   "source": [
    "Given random clickers would click either one with equal probability which means:\n",
    "* P(yes | Random Clicker) = 0.5\n",
    "* P(no | Random Clicker) = 0.5\n",
    "\n",
    "Also, out of all the clicks the expected fraction of random clickers is 30%, from this we can derive the following probabilities:\n",
    "* P(Random Clicker) = 0.3 \n",
    "* P(Truthful Clicker) = 1 - P(Random Clicker) = 1 - 0.3 = 0.7\n",
    "\n",
    "After a trial period,\n",
    "* P(yes) = 0.65\n",
    "* P(no) = 0.35\n",
    "\n",
    "What fraction of people who are truthful clickers answered yes?\n",
    "* By the rule of total probability:\n",
    "    * P(yes) = (P(yes | Truthful Clicker) * P(Truthful Cliker)) + (p(yes | Random Clicker) * P(Random Clicker))\n",
    "    * P(yes | Truthful Clicker) = (P(yes) - (p(yes | Random Clicker) * P(Random Clicker))) / P(Truthful Clicker)"
   ]
  },
  {
   "cell_type": "code",
   "execution_count": 6,
   "metadata": {},
   "outputs": [
    {
     "name": "stdout",
     "output_type": "stream",
     "text": [
      "The fraction of people who are truthful clickers answered yes is 71.43%\n"
     ]
    }
   ],
   "source": [
    "prob_yes_truth = (0.65 - (0.5 * 0.3)) / (0.7)\n",
    "fraction = prob_yes_truth*100\n",
    "print (\"The fraction of people who are truthful clickers answered yes is {:.2f}%\".format(fraction))"
   ]
  },
  {
   "cell_type": "markdown",
   "metadata": {},
   "source": [
    "### Part B\n",
    "\n",
    "Imagine a medical test for a disease with the following two attributes:\n",
    "\n",
    "* The sensitivity is about 0.993. That is, if someone has the disease, there is a probability of 0.993 that they will test positive.\n",
    "* The specificity is about 0.9999. This means that if someone doesn't have the disease, there is probability of 0.9999 that they will test negative.\n",
    "* In the general population, incidence of the disease is reasonably rare: about 0.0025% of all people have it (or 0.000025 as a decimal probability).\n",
    "\n",
    "Suppose someone tests positive. What is the probability that they have the disease?"
   ]
  },
  {
   "cell_type": "markdown",
   "metadata": {},
   "source": [
    "### Solution"
   ]
  },
  {
   "cell_type": "markdown",
   "metadata": {},
   "source": [
    "Given, in the general population, incidence of the disease is reasonably rare: about 0.0025%, from this:\n",
    "* P(D) = 0.000025\n",
    "* P(~D) = 1 - 0.000025 = 0.99975\n",
    "* Here, D: Having Disease and ~D: Not Having Disease\n",
    "\n",
    "Sensitivity is 0.993, from which following probabilities can be derived:\n",
    "* P(+ve | D) = 0.993\n",
    "* P(-ve | D) = 1 - 0.993 = 0.007\n",
    "\n",
    "Specificity is 0.9999, from which following probabilities can be derived:\n",
    "* P(-ve | ~D) = 0.9999\n",
    "* P(+ve | ~D) = 1 - 0.9999 = 0.0001"
   ]
  },
  {
   "cell_type": "markdown",
   "metadata": {},
   "source": [
    "Suppose someone tests positive. What is the probability that they have the disease?\n",
    "* From Bayes Rule\n",
    "    * Calculate joint probabilities: test being positive given D and test being positive given ~D:\n",
    "        * P(+ve , D) = P(+ve | D) * P(D)\n",
    "        * P(+ve, ~D) = P(+ve | ~D) * P(~D)"
   ]
  },
  {
   "cell_type": "code",
   "execution_count": 2,
   "metadata": {},
   "outputs": [],
   "source": [
    "# Calculating joint probabilities\n",
    "joint_prob_pos_d = (0.993 * 0.000025)\n",
    "joint_prob_pos_nod = (0.0001 * 0.99975)"
   ]
  },
  {
   "cell_type": "code",
   "execution_count": 3,
   "metadata": {},
   "outputs": [],
   "source": [
    "# Normalize\n",
    "toal_pos_prob = joint_prob_pos_d + joint_prob_pos_nod\n",
    "prob_dis_given_pos = joint_prob_pos_d / toal_pos_prob\n",
    "prob_nodis_given_pos = joint_prob_pos_nod / toal_pos_prob"
   ]
  },
  {
   "cell_type": "code",
   "execution_count": 5,
   "metadata": {},
   "outputs": [
    {
     "name": "stdout",
     "output_type": "stream",
     "text": [
      "The probability of someone having disease given that they tested positive is 19.89%\n"
     ]
    }
   ],
   "source": [
    "prob_dis_given_pos\n",
    "print (\"The probability of someone having disease given that they tested positive is {:.2f}%\".format(prob_dis_given_pos*100))"
   ]
  },
  {
   "cell_type": "code",
   "execution_count": null,
   "metadata": {},
   "outputs": [],
   "source": []
  }
 ],
 "metadata": {
  "kernelspec": {
   "display_name": "Python 3",
   "language": "python",
   "name": "python3"
  },
  "language_info": {
   "codemirror_mode": {
    "name": "ipython",
    "version": 3
   },
   "file_extension": ".py",
   "mimetype": "text/x-python",
   "name": "python",
   "nbconvert_exporter": "python",
   "pygments_lexer": "ipython3",
   "version": "3.7.4"
  }
 },
 "nbformat": 4,
 "nbformat_minor": 2
}
